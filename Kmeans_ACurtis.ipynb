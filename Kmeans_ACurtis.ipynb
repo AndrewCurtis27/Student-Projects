{
  "nbformat": 4,
  "nbformat_minor": 0,
  "metadata": {
    "colab": {
      "name": "CS6665_Hw3_ACurtis",
      "provenance": [],
      "collapsed_sections": []
    },
    "kernelspec": {
      "name": "python3",
      "display_name": "Python 3"
    },
    "language_info": {
      "name": "python"
    }
  },
  "cells": [
    {
      "cell_type": "code",
      "execution_count": null,
      "metadata": {
        "id": "M_s1oInYl722"
      },
      "outputs": [],
      "source": [
        "!pip install pyspark\n",
        "!pip install -U -q PyDrive\n",
        "!apt install openjdk-8-jdk-headless -qq\n",
        "import os\n",
        "os.environ[\"JAVA_HOME\"] = \"/usr/lib/jvm/java-8-openjdk-amd64\""
      ]
    },
    {
      "cell_type": "code",
      "source": [
        "import numpy as np\n",
        "from pyspark import SparkContext, SparkFiles\n",
        "import string\n",
        "import matplotlib.pyplot as plt\n",
        "\n",
        "sc = SparkContext('local','Kmeans')"
      ],
      "metadata": {
        "id": "1P9Hf-rAwp6w"
      },
      "execution_count": null,
      "outputs": []
    },
    {
      "cell_type": "code",
      "source": [
        "centroids = sc.textFile('centroid.txt')\n",
        "data = sc.textFile('data.txt')"
      ],
      "metadata": {
        "id": "PPA75D-_y0Pa"
      },
      "execution_count": null,
      "outputs": []
    },
    {
      "cell_type": "markdown",
      "source": [
        "Function to calculate closest index from point and current centroids"
      ],
      "metadata": {
        "id": "-5mWujCnVfgW"
      }
    },
    {
      "cell_type": "code",
      "source": [
        "def closestPoint(p, centers):\n",
        "    bestIndex = 0\n",
        "    closest = float(\"+inf\")\n",
        "    for i in range(len(centers)):\n",
        "        tempDist = np.sum((p - centers[i]) ** 2)\n",
        "        if tempDist < closest:\n",
        "            closest = tempDist\n",
        "            bestIndex = i\n",
        "    return bestIndex"
      ],
      "metadata": {
        "id": "z7LoR5nlH3X_"
      },
      "execution_count": null,
      "outputs": []
    },
    {
      "cell_type": "markdown",
      "source": [
        "**Kmeans Implementation**"
      ],
      "metadata": {
        "id": "QpNDmquTVqW9"
      }
    },
    {
      "cell_type": "markdown",
      "source": [
        "I did some debugging and I can tell the centroids move locations and some points get updated to new centroids. Obviously, the graph of my loss function is basically static. I think the issue is in how I'm calculating the loss from my RDD object. I have confirmed that the centroid points update locations and seem to converge. You can see this by uncommenting the print(newCentroids) line. Thanks for the conisderation."
      ],
      "metadata": {
        "id": "WKEeN_ldXWiI"
      }
    },
    {
      "cell_type": "code",
      "source": [
        "clean_c = centroids.map(lambda line: line.split('\\t')).map(lambda line: [float(x) for x in line]) # parse centroids\n",
        "clean_d = data.map(lambda line: line.split('\\t')).map(lambda line: [float(x) for x in line]) # parse data points\n",
        "c_array = np.array(clean_c.collect()) #array of current centroids\n",
        "\n",
        "num_iters = 0;\n",
        "costArray = []; # array to calculate loss for plot\n",
        "\n",
        "while num_iters < 20:\n",
        "  closest = clean_d.map(lambda p: (closestPoint(p, c_array), (p, 1)))\n",
        "  # Maps data points, format: (closest centroid number, (point array, key value))\n",
        "\n",
        "  intermediate = closest.reduceByKey(lambda a,b: ((np.add(a[0], b[0]), np.add(a[1], b[1]))))\n",
        "  # Reduce by key, adds up point array to get totals per dimension and adds counts per centroid\n",
        "\n",
        "  newCentroids = intermediate.mapValues(lambda x: (np.divide(x[0], x[1]))).values().collect()\n",
        "  # Calculates new centroids by dividing each dimension point in the array by the count of points at that centroid\n",
        "  \n",
        "  #print(newCentroids)\n",
        "  #use this to print the array of centroid locations for each pass, you can see they update and then seem to converge\n",
        "  \n",
        "  c_array = (newCentroids) # Updates centroid locations\n",
        "  num_iters +=1\n",
        "\n",
        "  totalDistArray = intermediate.mapValues(lambda d: np.sum(d[0])).values().collect()\n",
        "  totalDist = np.sum(totalDistArray) # Finds total distance of points to nearest centroid for that iteration\n",
        "  costArray.append(totalDist) # Adds total distance to loss array for plotting\n",
        "\n",
        "\n",
        "x_val = list(range(0, 20))\n",
        "plt.plot(x_val, costArray) # Plots loss function"
      ],
      "metadata": {
        "colab": {
          "base_uri": "https://localhost:8080/",
          "height": 282
        },
        "id": "it3K-N6Kzldw",
        "outputId": "b4c630fc-a872-4706-9351-3ec11733ad9a"
      },
      "execution_count": null,
      "outputs": [
        {
          "output_type": "execute_result",
          "data": {
            "text/plain": [
              "[<matplotlib.lines.Line2D at 0x7f4b21d28510>]"
            ]
          },
          "metadata": {},
          "execution_count": 72
        },
        {
          "output_type": "display_data",
          "data": {
            "image/png": "[encoded data removed]",
            "text/plain": [
              "<Figure size 432x288 with 1 Axes>"
            ]
          },
          "metadata": {
            "needs_background": "light"
          }
        }
      ]
    }
  ]
}